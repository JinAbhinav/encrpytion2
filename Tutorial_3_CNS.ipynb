{
  "nbformat": 4,
  "nbformat_minor": 0,
  "metadata": {
    "colab": {
      "provenance": []
    },
    "kernelspec": {
      "name": "python3",
      "display_name": "Python 3"
    },
    "language_info": {
      "name": "python"
    }
  },
  "cells": [
    {
      "cell_type": "code",
      "source": [
        "import numpy as np\n",
        "\n",
        "def extended_gcd(a, b):\n",
        "    if a == 0:\n",
        "        return (b, 0, 1)\n",
        "    else:\n",
        "        g, y, x = extended_gcd(b % a, a)\n",
        "        return (g, x - (b // a) * y, y)\n",
        "\n",
        "def chinese_remainder_theorem(n, a):\n",
        "    sum = 0\n",
        "    prod = np.prod(n)\n",
        "\n",
        "    for n_i, a_i in zip(n, a):\n",
        "        p = prod // n_i\n",
        "        _, inv, _ = extended_gcd(p, n_i)\n",
        "        sum += a_i * inv * p\n",
        "\n",
        "    return sum % prod\n",
        "\n",
        "# Example usage:\n",
        "n = [3, 5, 7]\n",
        "a = [2, 3, 2]\n",
        "result = chinese_remainder_theorem(n, a)\n",
        "print(\"The solution is:\", result)\n"
      ],
      "metadata": {
        "colab": {
          "base_uri": "https://localhost:8080/"
        },
        "id": "jHUBy30762JB",
        "outputId": "0d9542ec-2f1b-41c6-ca56-5f94d553e9d5"
      },
      "execution_count": 1,
      "outputs": [
        {
          "output_type": "stream",
          "name": "stdout",
          "text": [
            "The solution is: 23\n"
          ]
        }
      ]
    }
  ]
}